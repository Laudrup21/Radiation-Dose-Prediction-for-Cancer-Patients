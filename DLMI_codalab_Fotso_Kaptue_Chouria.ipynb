{
  "cells": [
    {
      "cell_type": "markdown",
      "metadata": {
        "id": "YLeEURDERALX"
      },
      "source": [
        "# Import"
      ]
    },
    {
      "cell_type": "code",
      "execution_count": 102,
      "metadata": {
        "id": "hBgta7FckmLy"
      },
      "outputs": [],
      "source": [
        "import torch\n",
        "import torch.nn as nn\n",
        "import torch.utils.data\n",
        "import torch.utils.tensorboard\n",
        "import torchvision\n",
        "import torchvision.transforms\n",
        "import os\n",
        "import time\n",
        "import numpy as np\n",
        "import skimage.transform\n",
        "import matplotlib.pyplot as plt\n",
        "import pandas as pd\n",
        "import sklearn.model_selection as model_selection\n",
        "from tqdm import tqdm\n",
        "from glob import glob\n",
        "from IPython.display import clear_output\n",
        "from torch.utils.data import DataLoader\n",
        "import torch.nn.functional as F"
      ]
    },
    {
      "cell_type": "markdown",
      "metadata": {
        "id": "tqwF2tspRFrQ"
      },
      "source": [
        "# Dataset"
      ]
    },
    {
      "cell_type": "code",
      "execution_count": 103,
      "metadata": {
        "colab": {
          "base_uri": "https://localhost:8080/"
        },
        "id": "gdJg2Ha2RYI-",
        "outputId": "cf22f4a1-fc49-4e9c-b1f2-3bf83733bb5d"
      },
      "outputs": [
        {
          "output_type": "stream",
          "name": "stdout",
          "text": [
            "fatal: destination path 'MVA-Dose-Prediction' already exists and is not an empty directory.\n"
          ]
        }
      ],
      "source": [
        "!git clone https://github.com/soniamartinot/MVA-Dose-Prediction.git"
      ]
    },
    {
      "cell_type": "code",
      "execution_count": 104,
      "metadata": {
        "colab": {
          "base_uri": "https://localhost:8080/"
        },
        "id": "0aN276SbRagu",
        "outputId": "250b5fdb-5ab9-4d4a-f80d-e3a2f6d90380"
      },
      "outputs": [
        {
          "output_type": "stream",
          "name": "stdout",
          "text": [
            "Length of training set: 7800\n"
          ]
        }
      ],
      "source": [
        "all_training_samples = \"./MVA-Dose-Prediction/train/*\"\n",
        "print(\"Length of training set:\", len(glob(all_training_samples)))"
      ]
    },
    {
      "cell_type": "code",
      "execution_count": 105,
      "metadata": {
        "colab": {
          "base_uri": "https://localhost:8080/"
        },
        "id": "TlmHWQug9kjS",
        "outputId": "8c0c55f8-6679-4dd8-eaca-52a73cbd11fb"
      },
      "outputs": [
        {
          "output_type": "stream",
          "name": "stdout",
          "text": [
            "Length of validation set: 1200\n"
          ]
        }
      ],
      "source": [
        "all_validation_samples = \"./MVA-Dose-Prediction/validation/*\"\n",
        "print(\"Length of validation set:\", len(glob(all_validation_samples)))"
      ]
    },
    {
      "cell_type": "code",
      "execution_count": 106,
      "metadata": {
        "colab": {
          "base_uri": "https://localhost:8080/"
        },
        "id": "bTta8sOa9LCr",
        "outputId": "07c7844b-26b0-4b8f-e612-8873609697ea"
      },
      "outputs": [
        {
          "output_type": "stream",
          "name": "stdout",
          "text": [
            "Length of test set: 1200\n"
          ]
        }
      ],
      "source": [
        "all_test_samples = \"./MVA-Dose-Prediction/test/*\"\n",
        "print(\"Length of test set:\", len(glob(all_test_samples)))"
      ]
    },
    {
      "cell_type": "code",
      "execution_count": 107,
      "metadata": {
        "id": "EMmjR5EaCf8Y"
      },
      "outputs": [],
      "source": [
        "class DoseDataset(torch.utils.data.Dataset):\n",
        "    def __init__(self, data_path, transform=None):\n",
        "        self.data_path = data_path\n",
        "        self.samples = os.listdir(data_path)\n",
        "        self.transform = transform\n",
        "\n",
        "    def __len__(self):\n",
        "        return len(self.samples)\n",
        "\n",
        "    def __getitem__(self, idx):\n",
        "        sample_path = self.data_path + os.sep + self.samples[idx]\n",
        "        ct_scan = torch.from_numpy(np.load(sample_path + os.sep + 'ct.npy')).float()\n",
        "        ct_scan = F.normalize(ct_scan, p=2.0, dim=1, eps=1e-12, out=None).float()\n",
        "        possible_dose_mask = torch.from_numpy(np.load(sample_path + os.sep + 'possible_dose_mask.npy')).float()\n",
        "        dose = torch.from_numpy(np.load(sample_path + os.sep + 'dose.npy')).float()\n",
        "        structure_masks = torch.from_numpy(np.load(sample_path + os.sep + 'structure_masks.npy')).float()\n",
        "        features = torch.vstack([ct_scan.unsqueeze(0), structure_masks, possible_dose_mask.unsqueeze(0)])\n",
        "\n",
        "\n",
        "        return (features, dose)\n"
      ]
    },
    {
      "cell_type": "code",
      "execution_count": 108,
      "metadata": {
        "id": "ppQYeCGs941j"
      },
      "outputs": [],
      "source": [
        "train_dir = \"./MVA-Dose-Prediction/train/\"\n",
        "\n",
        "\n",
        "train_dataset = DoseDataset(train_dir)\n",
        "train_loader = DataLoader(train_dataset, batch_size=16, num_workers=1, shuffle=True, pin_memory=True)"
      ]
    },
    {
      "cell_type": "code",
      "execution_count": 109,
      "metadata": {
        "id": "gGCFc3nA-GB9"
      },
      "outputs": [],
      "source": [
        "val_dir = \"./MVA-Dose-Prediction/validation\"\n",
        "\n",
        "val_dataset = DoseDataset(val_dir)\n",
        "val_loader = DataLoader(val_dataset, batch_size=16, num_workers=1, shuffle=True, pin_memory=True)"
      ]
    },
    {
      "cell_type": "code",
      "execution_count": 110,
      "metadata": {
        "colab": {
          "base_uri": "https://localhost:8080/"
        },
        "id": "Vl9D5kdWeyMI",
        "outputId": "939f736f-2a15-4739-ff64-8c247dcf9721"
      },
      "outputs": [
        {
          "output_type": "execute_result",
          "data": {
            "text/plain": [
              "torch.Size([128, 128])"
            ]
          },
          "metadata": {},
          "execution_count": 110
        }
      ],
      "source": [
        "train_dataset[0][0][0].shape"
      ]
    },
    {
      "cell_type": "code",
      "execution_count": 111,
      "metadata": {
        "colab": {
          "base_uri": "https://localhost:8080/",
          "height": 268
        },
        "id": "9yDIU4aq-_ed",
        "outputId": "e11d75ad-91c9-43c0-b003-a1a283924d1f"
      },
      "outputs": [
        {
          "output_type": "display_data",
          "data": {
            "text/plain": [
              "<Figure size 432x288 with 1 Axes>"
            ],
            "image/png": "[encoded data removed]"
          },
          "metadata": {}
        }
      ],
      "source": [
        "plt.imshow(train_dataset[2][0][0])\n",
        "plt.show()"
      ]
    },
    {
      "cell_type": "code",
      "execution_count": 112,
      "metadata": {
        "colab": {
          "base_uri": "https://localhost:8080/"
        },
        "id": "NzN2LoqGwa--",
        "outputId": "b8e57844-27fa-46da-ac83-a926ce8d7b06"
      },
      "outputs": [
        {
          "output_type": "execute_result",
          "data": {
            "text/plain": [
              "tensor(0.8453)"
            ]
          },
          "metadata": {},
          "execution_count": 112
        }
      ],
      "source": [
        "torch.max((train_dataset[2][0][0]))"
      ]
    },
    {
      "cell_type": "code",
      "execution_count": 113,
      "metadata": {
        "colab": {
          "base_uri": "https://localhost:8080/"
        },
        "id": "1yyDczTrACmU",
        "outputId": "77f13838-202a-469e-bd33-4f2fbbdf0615"
      },
      "outputs": [
        {
          "output_type": "execute_result",
          "data": {
            "text/plain": [
              "torch.Size([128, 128])"
            ]
          },
          "metadata": {},
          "execution_count": 113
        }
      ],
      "source": [
        "train_dataset[2][0][0].shape"
      ]
    },
    {
      "cell_type": "code",
      "execution_count": 114,
      "metadata": {
        "colab": {
          "base_uri": "https://localhost:8080/",
          "height": 268
        },
        "id": "2RLYdtn0B8kY",
        "outputId": "962e2ced-54fa-4a1d-a2b7-1f42198bd006"
      },
      "outputs": [
        {
          "output_type": "display_data",
          "data": {
            "text/plain": [
              "<Figure size 432x288 with 1 Axes>"
            ],
            "image/png": "[encoded data removed]"
          },
          "metadata": {}
        }
      ],
      "source": [
        "plt.imshow(train_dataset[2][1])\n",
        "plt.show()"
      ]
    },
    {
      "cell_type": "markdown",
      "metadata": {
        "id": "8IFgjYGiGpDj"
      },
      "source": [
        "# Model"
      ]
    },
    {
      "cell_type": "code",
      "execution_count": 115,
      "metadata": {
        "id": "u18PjLA8GrOl"
      },
      "outputs": [],
      "source": [
        "def get_activation(activation_type):\n",
        "    activation_type = activation_type.lower()\n",
        "    if hasattr(nn, activation_type):  return getattr(nn, activation_type)()\n",
        "    else:  return nn.ReLU()"
      ]
    },
    {
      "cell_type": "code",
      "execution_count": 116,
      "metadata": {
        "id": "Si58yLJkIcri"
      },
      "outputs": [],
      "source": [
        "class ConvBatchNorm(nn.Module):\n",
        "    \"\"\"This block implements the sequence: (convolution => [BN] => ReLU)\"\"\"  \n",
        "    def __init__(self, in_channels, out_channels, activation='GELU'):\n",
        "        super(ConvBatchNorm, self).__init__()\n",
        "        self.conv = nn.Conv2d(in_channels, out_channels, \n",
        "                              kernel_size=3, padding=1)\n",
        "        self.norm = nn.BatchNorm2d(out_channels)\n",
        "        self.activation = get_activation(activation)\n",
        "        #self.dropout = nn.Dropout(p = 0.15)\n",
        "      \n",
        "    def forward(self, x):\n",
        "        out = self.conv(x)\n",
        "        out = self.norm(out)\n",
        "      #  return self.dropout(self.activation(out))\n",
        "        return self.activation(out)\n",
        "    "
      ]
    },
    {
      "cell_type": "code",
      "execution_count": 117,
      "metadata": {
        "id": "oosN1nSMIqTO"
      },
      "outputs": [],
      "source": [
        "def _make_nConv(in_channels, out_channels, nb_Conv, activation='GELU'):\n",
        "    layers = []\n",
        "    layers.append(ConvBatchNorm(in_channels, out_channels, activation))\n",
        "    for _ in range(nb_Conv-1):\n",
        "        layers.append(ConvBatchNorm(out_channels, out_channels, activation))\n",
        "    return nn.Sequential(*layers)"
      ]
    },
    {
      "cell_type": "code",
      "execution_count": 118,
      "metadata": {
        "id": "YxzcAzX0I17D"
      },
      "outputs": [],
      "source": [
        "class DownBlock(nn.Module):\n",
        "    \"\"\"Downscaling with maxpooling and convolutions\"\"\"\n",
        "    def __init__(self, in_channels, out_channels, nb_Conv, activation='GELU'):\n",
        "        super(DownBlock, self).__init__()\n",
        "        self.maxpool = nn.MaxPool2d(2)\n",
        "        self.nConvs = _make_nConv(in_channels, out_channels, nb_Conv, activation)\n",
        "\n",
        "    def forward(self, x):\n",
        "        out = self.maxpool(x)\n",
        "        return self.nConvs(out)  "
      ]
    },
    {
      "cell_type": "code",
      "execution_count": 119,
      "metadata": {
        "id": "o2_rtrlpW-2s"
      },
      "outputs": [],
      "source": [
        "class Bottleneck(nn.Module):\n",
        "    def __init__(self, in_channels, out_channels, nb_Conv=2, activation='GELU'):\n",
        "        super(Bottleneck, self).__init__()\n",
        "        self.nConvs = _make_nConv(in_channels, out_channels, nb_Conv, activation)\n",
        "        self.last = nn.ConvTranspose2d(in_channels, out_channels, kernel_size=2, stride=2, padding=0)\n",
        "    def forward(self, input):\n",
        "        out = self.nConvs(input)\n",
        "        #out = self.last(out)\n",
        "        return out"
      ]
    },
    {
      "cell_type": "code",
      "execution_count": 120,
      "metadata": {
        "id": "1dEdyBxhJUl_"
      },
      "outputs": [],
      "source": [
        "class UpBlock(nn.Module):\n",
        "    \"\"\"Upscaling then conv\"\"\"\n",
        "    def __init__(self, in_channels, out_channels, nb_Conv=2, activation='GELU'):\n",
        "        super(UpBlock, self).__init__()        \n",
        "        #nn.Upsample(scale_factor=2)\n",
        "        self.nConvs = _make_nConv(in_channels, out_channels, nb_Conv, activation)\n",
        "        self.up = nn.ConvTranspose2d(out_channels, out_channels, kernel_size=2, stride=2, padding=0)\n",
        "\n",
        "    def forward(self, x, skip_x):\n",
        "        #print(f\"shape of x\", x.shape)\n",
        "        #print(f\"shape of skip_x\", skip_x.shape)\n",
        "        x = torch.cat([x, skip_x], dim=1)\n",
        "        #print(x.shape)\n",
        "        x = self.nConvs(x)\n",
        "        #print(x.shape)\n",
        "         # dim 1 is the channel dimension\n",
        "        return self.up(x)"
      ]
    },
    {
      "cell_type": "code",
      "execution_count": 121,
      "metadata": {
        "id": "XIwwDpf4JbEr"
      },
      "outputs": [],
      "source": [
        "class UNet(nn.Module):\n",
        "    def __init__(self, n_channels=12):\n",
        "        '''\n",
        "        n_channels : number of channels of the input. \n",
        "                        By default 12, because we have 12 modalities\n",
        "        '''\n",
        "        super(UNet, self).__init__()\n",
        "        self.n_channels = n_channels\n",
        "\n",
        "        # Question here\n",
        "        self.inc1 = ConvBatchNorm(n_channels, 64)\n",
        "        self.inc2 = ConvBatchNorm(64, 64)\n",
        "        self.down1 = DownBlock(64, 128, nb_Conv=2)\n",
        "        self.down2 = DownBlock(128, 256, nb_Conv=2)\n",
        "        self.down3 = DownBlock(256, 512, nb_Conv=2)\n",
        "        self.down4 = DownBlock(512, 512, nb_Conv=2)\n",
        "\n",
        "        self.Encoder = [self.down1, self.down2, self.down3, self.down4]\n",
        "\n",
        "        self.bottleneck = Bottleneck(512, 512)\n",
        "\n",
        "        self.up1 = UpBlock(1024, 256, nb_Conv=2)\n",
        "        self.up2 = UpBlock(768, 256, nb_Conv=2)\n",
        "        self.up3 = UpBlock(512, 128, nb_Conv=2)\n",
        "        self.up4 = UpBlock(256, 64, nb_Conv=2)\n",
        "\n",
        "\n",
        "        self.Decoder = [self.up1, self.up2, self.up3, self.up4]\n",
        "\n",
        "        self.outc = nn.Sequential(ConvBatchNorm(128, 32),\n",
        "                                nn.Conv2d(32, 16, \n",
        "                              kernel_size=3, padding=1),\n",
        "                              nn.Conv2d(16, 8, \n",
        "                              kernel_size=3, padding=1),\n",
        "                              nn.Conv2d(8, 4, \n",
        "                              kernel_size=3, padding=1),\n",
        "                              nn.Conv2d(4, 2, \n",
        "                              kernel_size=3, padding=1),\n",
        "                              nn.Conv2d(2, 1, \n",
        "                              kernel_size=1, padding=0),\n",
        "        )\n",
        "        self.last_activation = get_activation('relu')\n",
        "\n",
        "    \n",
        "    def forward(self, x):\n",
        "        # Forward \n",
        "        skip_inputs = []\n",
        "        x = self.inc2(self.inc2(self.inc1(x)))\n",
        "        #print(x.shape)\n",
        "        # Forward through encoder\n",
        "        for i, block in enumerate(self.Encoder):\n",
        "            skip_inputs += [x]\n",
        "            x = block(x)  \n",
        "            #print(f\"down bloc{i+1}\", x.shape)\n",
        "\n",
        "        skip_inputs += [x]                                      \n",
        "        # We are at the bottleneck.\n",
        "        bottleneck = self.bottleneck(x)\n",
        "        #print(f\"bottleneck\", bottleneck.shape)\n",
        "\n",
        "        # Forward through decoder\n",
        "        skip_inputs.reverse()\n",
        "\n",
        "        decoded = bottleneck\n",
        "        for i, block in enumerate(self.Decoder):\n",
        "            #Concat with skipconnections\n",
        "            skipped = skip_inputs[i]\n",
        "            #print(skipped.shape, decoded.shape)\n",
        "            decoded = block(decoded, skipped)\n",
        "            #print(f\"up block {i+1}\", decoded.shape)\n",
        "        #print(decoded.shape)\n",
        "        #print(skip_inputs[-1].shape)\n",
        "        out = self.last_activation(self.outc(torch.cat([decoded, skip_inputs[-1]], dim=1)))\n",
        "        return out.squeeze(1)"
      ]
    },
    {
      "cell_type": "code",
      "execution_count": 122,
      "metadata": {
        "id": "6BlmQu0RjhHN"
      },
      "outputs": [],
      "source": [
        "unet = UNet(n_channels=12)\n"
      ]
    },
    {
      "cell_type": "code",
      "execution_count": 123,
      "metadata": {
        "id": "xJeQyTTmlpL1"
      },
      "outputs": [],
      "source": [
        "y = unet(val_dataset[0][0].unsqueeze(0))\n"
      ]
    },
    {
      "cell_type": "code",
      "execution_count": 124,
      "metadata": {
        "colab": {
          "base_uri": "https://localhost:8080/"
        },
        "id": "4nrUMEJImdPM",
        "outputId": "f39ab2e8-b225-4b9a-a1d4-537e73d440f5"
      },
      "outputs": [
        {
          "output_type": "stream",
          "name": "stdout",
          "text": [
            "torch.Size([1, 128, 128])\n"
          ]
        }
      ],
      "source": [
        "print(y.shape)"
      ]
    },
    {
      "cell_type": "markdown",
      "metadata": {
        "id": "02j167KiqMsU"
      },
      "source": [
        "# Training"
      ]
    },
    {
      "cell_type": "code",
      "execution_count": 125,
      "metadata": {
        "colab": {
          "base_uri": "https://localhost:8080/"
        },
        "id": "LxAAL3d4qPSt",
        "outputId": "611ec8e0-5dd2-4a10-8e3a-0a0b1bd419ac"
      },
      "outputs": [
        {
          "output_type": "execute_result",
          "data": {
            "text/plain": [
              "UNet(\n",
              "  (inc1): ConvBatchNorm(\n",
              "    (conv): Conv2d(12, 64, kernel_size=(3, 3), stride=(1, 1), padding=(1, 1))\n",
              "    (norm): BatchNorm2d(64, eps=1e-05, momentum=0.1, affine=True, track_running_stats=True)\n",
              "    (activation): ReLU()\n",
              "  )\n",
              "  (inc2): ConvBatchNorm(\n",
              "    (conv): Conv2d(64, 64, kernel_size=(3, 3), stride=(1, 1), padding=(1, 1))\n",
              "    (norm): BatchNorm2d(64, eps=1e-05, momentum=0.1, affine=True, track_running_stats=True)\n",
              "    (activation): ReLU()\n",
              "  )\n",
              "  (down1): DownBlock(\n",
              "    (maxpool): MaxPool2d(kernel_size=2, stride=2, padding=0, dilation=1, ceil_mode=False)\n",
              "    (nConvs): Sequential(\n",
              "      (0): ConvBatchNorm(\n",
              "        (conv): Conv2d(64, 128, kernel_size=(3, 3), stride=(1, 1), padding=(1, 1))\n",
              "        (norm): BatchNorm2d(128, eps=1e-05, momentum=0.1, affine=True, track_running_stats=True)\n",
              "        (activation): ReLU()\n",
              "      )\n",
              "      (1): ConvBatchNorm(\n",
              "        (conv): Conv2d(128, 128, kernel_size=(3, 3), stride=(1, 1), padding=(1, 1))\n",
              "        (norm): BatchNorm2d(128, eps=1e-05, momentum=0.1, affine=True, track_running_stats=True)\n",
              "        (activation): ReLU()\n",
              "      )\n",
              "    )\n",
              "  )\n",
              "  (down2): DownBlock(\n",
              "    (maxpool): MaxPool2d(kernel_size=2, stride=2, padding=0, dilation=1, ceil_mode=False)\n",
              "    (nConvs): Sequential(\n",
              "      (0): ConvBatchNorm(\n",
              "        (conv): Conv2d(128, 256, kernel_size=(3, 3), stride=(1, 1), padding=(1, 1))\n",
              "        (norm): BatchNorm2d(256, eps=1e-05, momentum=0.1, affine=True, track_running_stats=True)\n",
              "        (activation): ReLU()\n",
              "      )\n",
              "      (1): ConvBatchNorm(\n",
              "        (conv): Conv2d(256, 256, kernel_size=(3, 3), stride=(1, 1), padding=(1, 1))\n",
              "        (norm): BatchNorm2d(256, eps=1e-05, momentum=0.1, affine=True, track_running_stats=True)\n",
              "        (activation): ReLU()\n",
              "      )\n",
              "    )\n",
              "  )\n",
              "  (down3): DownBlock(\n",
              "    (maxpool): MaxPool2d(kernel_size=2, stride=2, padding=0, dilation=1, ceil_mode=False)\n",
              "    (nConvs): Sequential(\n",
              "      (0): ConvBatchNorm(\n",
              "        (conv): Conv2d(256, 512, kernel_size=(3, 3), stride=(1, 1), padding=(1, 1))\n",
              "        (norm): BatchNorm2d(512, eps=1e-05, momentum=0.1, affine=True, track_running_stats=True)\n",
              "        (activation): ReLU()\n",
              "      )\n",
              "      (1): ConvBatchNorm(\n",
              "        (conv): Conv2d(512, 512, kernel_size=(3, 3), stride=(1, 1), padding=(1, 1))\n",
              "        (norm): BatchNorm2d(512, eps=1e-05, momentum=0.1, affine=True, track_running_stats=True)\n",
              "        (activation): ReLU()\n",
              "      )\n",
              "    )\n",
              "  )\n",
              "  (down4): DownBlock(\n",
              "    (maxpool): MaxPool2d(kernel_size=2, stride=2, padding=0, dilation=1, ceil_mode=False)\n",
              "    (nConvs): Sequential(\n",
              "      (0): ConvBatchNorm(\n",
              "        (conv): Conv2d(512, 512, kernel_size=(3, 3), stride=(1, 1), padding=(1, 1))\n",
              "        (norm): BatchNorm2d(512, eps=1e-05, momentum=0.1, affine=True, track_running_stats=True)\n",
              "        (activation): ReLU()\n",
              "      )\n",
              "      (1): ConvBatchNorm(\n",
              "        (conv): Conv2d(512, 512, kernel_size=(3, 3), stride=(1, 1), padding=(1, 1))\n",
              "        (norm): BatchNorm2d(512, eps=1e-05, momentum=0.1, affine=True, track_running_stats=True)\n",
              "        (activation): ReLU()\n",
              "      )\n",
              "    )\n",
              "  )\n",
              "  (bottleneck): Bottleneck(\n",
              "    (nConvs): Sequential(\n",
              "      (0): ConvBatchNorm(\n",
              "        (conv): Conv2d(512, 512, kernel_size=(3, 3), stride=(1, 1), padding=(1, 1))\n",
              "        (norm): BatchNorm2d(512, eps=1e-05, momentum=0.1, affine=True, track_running_stats=True)\n",
              "        (activation): ReLU()\n",
              "      )\n",
              "      (1): ConvBatchNorm(\n",
              "        (conv): Conv2d(512, 512, kernel_size=(3, 3), stride=(1, 1), padding=(1, 1))\n",
              "        (norm): BatchNorm2d(512, eps=1e-05, momentum=0.1, affine=True, track_running_stats=True)\n",
              "        (activation): ReLU()\n",
              "      )\n",
              "    )\n",
              "    (last): ConvTranspose2d(512, 512, kernel_size=(2, 2), stride=(2, 2))\n",
              "  )\n",
              "  (up1): UpBlock(\n",
              "    (nConvs): Sequential(\n",
              "      (0): ConvBatchNorm(\n",
              "        (conv): Conv2d(1024, 256, kernel_size=(3, 3), stride=(1, 1), padding=(1, 1))\n",
              "        (norm): BatchNorm2d(256, eps=1e-05, momentum=0.1, affine=True, track_running_stats=True)\n",
              "        (activation): ReLU()\n",
              "      )\n",
              "      (1): ConvBatchNorm(\n",
              "        (conv): Conv2d(256, 256, kernel_size=(3, 3), stride=(1, 1), padding=(1, 1))\n",
              "        (norm): BatchNorm2d(256, eps=1e-05, momentum=0.1, affine=True, track_running_stats=True)\n",
              "        (activation): ReLU()\n",
              "      )\n",
              "    )\n",
              "    (up): ConvTranspose2d(256, 256, kernel_size=(2, 2), stride=(2, 2))\n",
              "  )\n",
              "  (up2): UpBlock(\n",
              "    (nConvs): Sequential(\n",
              "      (0): ConvBatchNorm(\n",
              "        (conv): Conv2d(768, 256, kernel_size=(3, 3), stride=(1, 1), padding=(1, 1))\n",
              "        (norm): BatchNorm2d(256, eps=1e-05, momentum=0.1, affine=True, track_running_stats=True)\n",
              "        (activation): ReLU()\n",
              "      )\n",
              "      (1): ConvBatchNorm(\n",
              "        (conv): Conv2d(256, 256, kernel_size=(3, 3), stride=(1, 1), padding=(1, 1))\n",
              "        (norm): BatchNorm2d(256, eps=1e-05, momentum=0.1, affine=True, track_running_stats=True)\n",
              "        (activation): ReLU()\n",
              "      )\n",
              "    )\n",
              "    (up): ConvTranspose2d(256, 256, kernel_size=(2, 2), stride=(2, 2))\n",
              "  )\n",
              "  (up3): UpBlock(\n",
              "    (nConvs): Sequential(\n",
              "      (0): ConvBatchNorm(\n",
              "        (conv): Conv2d(512, 128, kernel_size=(3, 3), stride=(1, 1), padding=(1, 1))\n",
              "        (norm): BatchNorm2d(128, eps=1e-05, momentum=0.1, affine=True, track_running_stats=True)\n",
              "        (activation): ReLU()\n",
              "      )\n",
              "      (1): ConvBatchNorm(\n",
              "        (conv): Conv2d(128, 128, kernel_size=(3, 3), stride=(1, 1), padding=(1, 1))\n",
              "        (norm): BatchNorm2d(128, eps=1e-05, momentum=0.1, affine=True, track_running_stats=True)\n",
              "        (activation): ReLU()\n",
              "      )\n",
              "    )\n",
              "    (up): ConvTranspose2d(128, 128, kernel_size=(2, 2), stride=(2, 2))\n",
              "  )\n",
              "  (up4): UpBlock(\n",
              "    (nConvs): Sequential(\n",
              "      (0): ConvBatchNorm(\n",
              "        (conv): Conv2d(256, 64, kernel_size=(3, 3), stride=(1, 1), padding=(1, 1))\n",
              "        (norm): BatchNorm2d(64, eps=1e-05, momentum=0.1, affine=True, track_running_stats=True)\n",
              "        (activation): ReLU()\n",
              "      )\n",
              "      (1): ConvBatchNorm(\n",
              "        (conv): Conv2d(64, 64, kernel_size=(3, 3), stride=(1, 1), padding=(1, 1))\n",
              "        (norm): BatchNorm2d(64, eps=1e-05, momentum=0.1, affine=True, track_running_stats=True)\n",
              "        (activation): ReLU()\n",
              "      )\n",
              "    )\n",
              "    (up): ConvTranspose2d(64, 64, kernel_size=(2, 2), stride=(2, 2))\n",
              "  )\n",
              "  (outc): Sequential(\n",
              "    (0): ConvBatchNorm(\n",
              "      (conv): Conv2d(128, 32, kernel_size=(3, 3), stride=(1, 1), padding=(1, 1))\n",
              "      (norm): BatchNorm2d(32, eps=1e-05, momentum=0.1, affine=True, track_running_stats=True)\n",
              "      (activation): ReLU()\n",
              "    )\n",
              "    (1): Conv2d(32, 16, kernel_size=(3, 3), stride=(1, 1), padding=(1, 1))\n",
              "    (2): Conv2d(16, 8, kernel_size=(3, 3), stride=(1, 1), padding=(1, 1))\n",
              "    (3): Conv2d(8, 4, kernel_size=(3, 3), stride=(1, 1), padding=(1, 1))\n",
              "    (4): Conv2d(4, 2, kernel_size=(3, 3), stride=(1, 1), padding=(1, 1))\n",
              "    (5): Conv2d(2, 1, kernel_size=(1, 1), stride=(1, 1))\n",
              "  )\n",
              "  (last_activation): ReLU()\n",
              ")"
            ]
          },
          "metadata": {},
          "execution_count": 125
        }
      ],
      "source": [
        "model = UNet(n_channels=12) # Create model\n",
        "model.cuda() # move model to GPU"
      ]
    },
    {
      "cell_type": "code",
      "execution_count": 126,
      "metadata": {
        "id": "ZyeuTD1wqylZ"
      },
      "outputs": [],
      "source": [
        "learning_rate = 2*1e-4\n",
        "\n",
        "criterion = nn.L1Loss() # Choose loss function\n",
        "optimizer = torch.optim.Adam(model.parameters(), lr=learning_rate) # Choose optimize\n",
        "device = torch.device('cuda' if torch.cuda.is_available() else 'cpu')\n",
        "scheduler = torch.optim.lr_scheduler.MultiStepLR(optimizer, milestones=[20, 50, 70], gamma=0.5)"
      ]
    },
    {
      "cell_type": "code",
      "execution_count": 127,
      "metadata": {
        "id": "l9X3cFczv4tA"
      },
      "outputs": [],
      "source": [
        "epochs = 60\n",
        "# initialize a dictionary to store training history\n",
        "H = {\"train_loss\": [], \"val_loss\": []}"
      ]
    },
    {
      "cell_type": "code",
      "execution_count": 128,
      "metadata": {
        "colab": {
          "base_uri": "https://localhost:8080/"
        },
        "id": "OfTT3_J1rFm1",
        "outputId": "193c46f3-7ca9-40a8-f0b8-745a63df7b1d"
      },
      "outputs": [
        {
          "output_type": "stream",
          "name": "stdout",
          "text": [
            "[INFO] training the network...\n"
          ]
        },
        {
          "output_type": "stream",
          "name": "stderr",
          "text": [
            "  2%|▏         | 1/60 [00:23<23:34, 23.97s/it]"
          ]
        },
        {
          "output_type": "stream",
          "name": "stdout",
          "text": [
            "[INFO] EPOCH: 1/60\n",
            "Train loss: 0.910577, Val loss: 0.9916\n"
          ]
        },
        {
          "output_type": "stream",
          "name": "stderr",
          "text": [
            "\r  3%|▎         | 2/60 [00:48<23:19, 24.13s/it]"
          ]
        },
        {
          "output_type": "stream",
          "name": "stdout",
          "text": [
            "[INFO] EPOCH: 2/60\n",
            "Train loss: 0.566021, Val loss: 0.6966\n"
          ]
        },
        {
          "output_type": "stream",
          "name": "stderr",
          "text": [
            "\r  5%|▌         | 3/60 [01:12<22:58, 24.19s/it]"
          ]
        },
        {
          "output_type": "stream",
          "name": "stdout",
          "text": [
            "[INFO] EPOCH: 3/60\n",
            "Train loss: 0.525341, Val loss: 0.7880\n"
          ]
        },
        {
          "output_type": "stream",
          "name": "stderr",
          "text": [
            "\r  7%|▋         | 4/60 [01:36<22:42, 24.32s/it]"
          ]
        },
        {
          "output_type": "stream",
          "name": "stdout",
          "text": [
            "[INFO] EPOCH: 4/60\n",
            "Train loss: 0.499452, Val loss: 0.5697\n"
          ]
        },
        {
          "output_type": "stream",
          "name": "stderr",
          "text": [
            "\r  8%|▊         | 5/60 [02:01<22:23, 24.43s/it]"
          ]
        },
        {
          "output_type": "stream",
          "name": "stdout",
          "text": [
            "[INFO] EPOCH: 5/60\n",
            "Train loss: 0.464295, Val loss: 0.5632\n"
          ]
        },
        {
          "output_type": "stream",
          "name": "stderr",
          "text": [
            "\r 10%|█         | 6/60 [02:25<21:55, 24.36s/it]"
          ]
        },
        {
          "output_type": "stream",
          "name": "stdout",
          "text": [
            "[INFO] EPOCH: 6/60\n",
            "Train loss: 0.443511, Val loss: 0.5288\n"
          ]
        },
        {
          "output_type": "stream",
          "name": "stderr",
          "text": [
            "\r 12%|█▏        | 7/60 [02:51<21:46, 24.65s/it]"
          ]
        },
        {
          "output_type": "stream",
          "name": "stdout",
          "text": [
            "[INFO] EPOCH: 7/60\n",
            "Train loss: 0.427189, Val loss: 0.5691\n"
          ]
        },
        {
          "output_type": "stream",
          "name": "stderr",
          "text": [
            "\r 13%|█▎        | 8/60 [03:15<21:21, 24.64s/it]"
          ]
        },
        {
          "output_type": "stream",
          "name": "stdout",
          "text": [
            "[INFO] EPOCH: 8/60\n",
            "Train loss: 0.415575, Val loss: 0.5003\n"
          ]
        },
        {
          "output_type": "stream",
          "name": "stderr",
          "text": [
            "\r 15%|█▌        | 9/60 [03:39<20:49, 24.50s/it]"
          ]
        },
        {
          "output_type": "stream",
          "name": "stdout",
          "text": [
            "[INFO] EPOCH: 9/60\n",
            "Train loss: 0.406491, Val loss: 0.5111\n"
          ]
        },
        {
          "output_type": "stream",
          "name": "stderr",
          "text": [
            "\r 17%|█▋        | 10/60 [04:04<20:33, 24.67s/it]"
          ]
        },
        {
          "output_type": "stream",
          "name": "stdout",
          "text": [
            "[INFO] EPOCH: 10/60\n",
            "Train loss: 0.395995, Val loss: 0.4468\n"
          ]
        },
        {
          "output_type": "stream",
          "name": "stderr",
          "text": [
            "\r 18%|█▊        | 11/60 [04:29<20:03, 24.55s/it]"
          ]
        },
        {
          "output_type": "stream",
          "name": "stdout",
          "text": [
            "[INFO] EPOCH: 11/60\n",
            "Train loss: 0.384795, Val loss: 0.5224\n"
          ]
        },
        {
          "output_type": "stream",
          "name": "stderr",
          "text": [
            "\r 20%|██        | 12/60 [04:53<19:32, 24.42s/it]"
          ]
        },
        {
          "output_type": "stream",
          "name": "stdout",
          "text": [
            "[INFO] EPOCH: 12/60\n",
            "Train loss: 0.377604, Val loss: 0.4728\n"
          ]
        },
        {
          "output_type": "stream",
          "name": "stderr",
          "text": [
            "\r 22%|██▏       | 13/60 [05:17<19:03, 24.33s/it]"
          ]
        },
        {
          "output_type": "stream",
          "name": "stdout",
          "text": [
            "[INFO] EPOCH: 13/60\n",
            "Train loss: 0.369198, Val loss: 0.4387\n"
          ]
        },
        {
          "output_type": "stream",
          "name": "stderr",
          "text": [
            "\r 23%|██▎       | 14/60 [05:41<18:36, 24.26s/it]"
          ]
        },
        {
          "output_type": "stream",
          "name": "stdout",
          "text": [
            "[INFO] EPOCH: 14/60\n",
            "Train loss: 0.358977, Val loss: 0.4773\n"
          ]
        },
        {
          "output_type": "stream",
          "name": "stderr",
          "text": [
            "\r 25%|██▌       | 15/60 [06:05<18:07, 24.16s/it]"
          ]
        },
        {
          "output_type": "stream",
          "name": "stdout",
          "text": [
            "[INFO] EPOCH: 15/60\n",
            "Train loss: 0.349725, Val loss: 0.4251\n"
          ]
        },
        {
          "output_type": "stream",
          "name": "stderr",
          "text": [
            "\r 27%|██▋       | 16/60 [06:29<17:43, 24.18s/it]"
          ]
        },
        {
          "output_type": "stream",
          "name": "stdout",
          "text": [
            "[INFO] EPOCH: 16/60\n",
            "Train loss: 0.341864, Val loss: 0.4338\n"
          ]
        },
        {
          "output_type": "stream",
          "name": "stderr",
          "text": [
            "\r 28%|██▊       | 17/60 [06:53<17:17, 24.12s/it]"
          ]
        },
        {
          "output_type": "stream",
          "name": "stdout",
          "text": [
            "[INFO] EPOCH: 17/60\n",
            "Train loss: 0.336962, Val loss: 0.4653\n"
          ]
        },
        {
          "output_type": "stream",
          "name": "stderr",
          "text": [
            "\r 30%|███       | 18/60 [07:18<16:57, 24.21s/it]"
          ]
        },
        {
          "output_type": "stream",
          "name": "stdout",
          "text": [
            "[INFO] EPOCH: 18/60\n",
            "Train loss: 0.327172, Val loss: 0.4387\n"
          ]
        },
        {
          "output_type": "stream",
          "name": "stderr",
          "text": [
            "\r 32%|███▏      | 19/60 [07:42<16:29, 24.12s/it]"
          ]
        },
        {
          "output_type": "stream",
          "name": "stdout",
          "text": [
            "[INFO] EPOCH: 19/60\n",
            "Train loss: 0.320250, Val loss: 0.4747\n"
          ]
        },
        {
          "output_type": "stream",
          "name": "stderr",
          "text": [
            "\r 33%|███▎      | 20/60 [08:06<16:06, 24.15s/it]"
          ]
        },
        {
          "output_type": "stream",
          "name": "stdout",
          "text": [
            "[INFO] EPOCH: 20/60\n",
            "Train loss: 0.314505, Val loss: 0.4653\n"
          ]
        },
        {
          "output_type": "stream",
          "name": "stderr",
          "text": [
            "\r 35%|███▌      | 21/60 [08:30<15:44, 24.21s/it]"
          ]
        },
        {
          "output_type": "stream",
          "name": "stdout",
          "text": [
            "[INFO] EPOCH: 21/60\n",
            "Train loss: 0.285369, Val loss: 0.4193\n"
          ]
        },
        {
          "output_type": "stream",
          "name": "stderr",
          "text": [
            "\r 37%|███▋      | 22/60 [08:54<15:17, 24.15s/it]"
          ]
        },
        {
          "output_type": "stream",
          "name": "stdout",
          "text": [
            "[INFO] EPOCH: 22/60\n",
            "Train loss: 0.275377, Val loss: 0.4376\n"
          ]
        },
        {
          "output_type": "stream",
          "name": "stderr",
          "text": [
            "\r 38%|███▊      | 23/60 [09:18<14:50, 24.08s/it]"
          ]
        },
        {
          "output_type": "stream",
          "name": "stdout",
          "text": [
            "[INFO] EPOCH: 23/60\n",
            "Train loss: 0.269358, Val loss: 0.4408\n"
          ]
        },
        {
          "output_type": "stream",
          "name": "stderr",
          "text": [
            "\r 40%|████      | 24/60 [09:42<14:25, 24.03s/it]"
          ]
        },
        {
          "output_type": "stream",
          "name": "stdout",
          "text": [
            "[INFO] EPOCH: 24/60\n",
            "Train loss: 0.263651, Val loss: 0.4348\n"
          ]
        },
        {
          "output_type": "stream",
          "name": "stderr",
          "text": [
            "\r 42%|████▏     | 25/60 [10:06<14:01, 24.05s/it]"
          ]
        },
        {
          "output_type": "stream",
          "name": "stdout",
          "text": [
            "[INFO] EPOCH: 25/60\n",
            "Train loss: 0.257125, Val loss: 0.4366\n"
          ]
        },
        {
          "output_type": "stream",
          "name": "stderr",
          "text": [
            "\r 43%|████▎     | 26/60 [10:30<13:40, 24.14s/it]"
          ]
        },
        {
          "output_type": "stream",
          "name": "stdout",
          "text": [
            "[INFO] EPOCH: 26/60\n",
            "Train loss: 0.250435, Val loss: 0.4512\n"
          ]
        },
        {
          "output_type": "stream",
          "name": "stderr",
          "text": [
            "\r 45%|████▌     | 27/60 [10:54<13:14, 24.08s/it]"
          ]
        },
        {
          "output_type": "stream",
          "name": "stdout",
          "text": [
            "[INFO] EPOCH: 27/60\n",
            "Train loss: 0.246572, Val loss: 0.4317\n"
          ]
        },
        {
          "output_type": "stream",
          "name": "stderr",
          "text": [
            "\r 47%|████▋     | 28/60 [11:18<12:48, 24.01s/it]"
          ]
        },
        {
          "output_type": "stream",
          "name": "stdout",
          "text": [
            "[INFO] EPOCH: 28/60\n",
            "Train loss: 0.241289, Val loss: 0.4322\n"
          ]
        },
        {
          "output_type": "stream",
          "name": "stderr",
          "text": [
            "\r 48%|████▊     | 29/60 [11:42<12:22, 23.97s/it]"
          ]
        },
        {
          "output_type": "stream",
          "name": "stdout",
          "text": [
            "[INFO] EPOCH: 29/60\n",
            "Train loss: 0.237373, Val loss: 0.4187\n"
          ]
        },
        {
          "output_type": "stream",
          "name": "stderr",
          "text": [
            "\r 50%|█████     | 30/60 [12:06<11:59, 23.99s/it]"
          ]
        },
        {
          "output_type": "stream",
          "name": "stdout",
          "text": [
            "[INFO] EPOCH: 30/60\n",
            "Train loss: 0.232006, Val loss: 0.4403\n"
          ]
        },
        {
          "output_type": "stream",
          "name": "stderr",
          "text": [
            "\r 52%|█████▏    | 31/60 [12:30<11:35, 23.97s/it]"
          ]
        },
        {
          "output_type": "stream",
          "name": "stdout",
          "text": [
            "[INFO] EPOCH: 31/60\n",
            "Train loss: 0.226920, Val loss: 0.4095\n"
          ]
        },
        {
          "output_type": "stream",
          "name": "stderr",
          "text": [
            "\r 53%|█████▎    | 32/60 [12:54<11:11, 23.98s/it]"
          ]
        },
        {
          "output_type": "stream",
          "name": "stdout",
          "text": [
            "[INFO] EPOCH: 32/60\n",
            "Train loss: 0.222792, Val loss: 0.4407\n"
          ]
        },
        {
          "output_type": "stream",
          "name": "stderr",
          "text": [
            "\r 55%|█████▌    | 33/60 [13:18<10:49, 24.04s/it]"
          ]
        },
        {
          "output_type": "stream",
          "name": "stdout",
          "text": [
            "[INFO] EPOCH: 33/60\n",
            "Train loss: 0.218569, Val loss: 0.4200\n"
          ]
        },
        {
          "output_type": "stream",
          "name": "stderr",
          "text": [
            "\r 57%|█████▋    | 34/60 [13:42<10:25, 24.06s/it]"
          ]
        },
        {
          "output_type": "stream",
          "name": "stdout",
          "text": [
            "[INFO] EPOCH: 34/60\n",
            "Train loss: 0.216288, Val loss: 0.4231\n"
          ]
        },
        {
          "output_type": "stream",
          "name": "stderr",
          "text": [
            "\r 58%|█████▊    | 35/60 [14:07<10:02, 24.10s/it]"
          ]
        },
        {
          "output_type": "stream",
          "name": "stdout",
          "text": [
            "[INFO] EPOCH: 35/60\n",
            "Train loss: 0.211006, Val loss: 0.4368\n"
          ]
        },
        {
          "output_type": "stream",
          "name": "stderr",
          "text": [
            "\r 60%|██████    | 36/60 [14:31<09:37, 24.08s/it]"
          ]
        },
        {
          "output_type": "stream",
          "name": "stdout",
          "text": [
            "[INFO] EPOCH: 36/60\n",
            "Train loss: 0.209212, Val loss: 0.4127\n"
          ]
        },
        {
          "output_type": "stream",
          "name": "stderr",
          "text": [
            "\r 62%|██████▏   | 37/60 [14:55<09:13, 24.06s/it]"
          ]
        },
        {
          "output_type": "stream",
          "name": "stdout",
          "text": [
            "[INFO] EPOCH: 37/60\n",
            "Train loss: 0.203189, Val loss: 0.4147\n"
          ]
        },
        {
          "output_type": "stream",
          "name": "stderr",
          "text": [
            "\r 63%|██████▎   | 38/60 [15:19<08:49, 24.08s/it]"
          ]
        },
        {
          "output_type": "stream",
          "name": "stdout",
          "text": [
            "[INFO] EPOCH: 38/60\n",
            "Train loss: 0.201016, Val loss: 0.4235\n",
            "[INFO] EPOCH: 39/60\n",
            "Train loss: 0.196570, Val loss: 0.4278\n"
          ]
        },
        {
          "output_type": "stream",
          "name": "stderr",
          "text": [
            "\r 67%|██████▋   | 40/60 [16:07<08:03, 24.16s/it]"
          ]
        },
        {
          "output_type": "stream",
          "name": "stdout",
          "text": [
            "[INFO] EPOCH: 40/60\n",
            "Train loss: 0.194660, Val loss: 0.4114\n"
          ]
        },
        {
          "output_type": "stream",
          "name": "stderr",
          "text": [
            "\r 68%|██████▊   | 41/60 [16:31<07:37, 24.08s/it]"
          ]
        },
        {
          "output_type": "stream",
          "name": "stdout",
          "text": [
            "[INFO] EPOCH: 41/60\n",
            "Train loss: 0.191570, Val loss: 0.4170\n",
            "[INFO] EPOCH: 42/60\n",
            "Train loss: 0.189010, Val loss: 0.4088\n"
          ]
        },
        {
          "output_type": "stream",
          "name": "stderr",
          "text": [
            "\r 72%|███████▏  | 43/60 [17:19<06:48, 24.02s/it]"
          ]
        },
        {
          "output_type": "stream",
          "name": "stdout",
          "text": [
            "[INFO] EPOCH: 43/60\n",
            "Train loss: 0.185581, Val loss: 0.4218\n"
          ]
        },
        {
          "output_type": "stream",
          "name": "stderr",
          "text": [
            "\r 73%|███████▎  | 44/60 [17:43<06:25, 24.11s/it]"
          ]
        },
        {
          "output_type": "stream",
          "name": "stdout",
          "text": [
            "[INFO] EPOCH: 44/60\n",
            "Train loss: 0.182645, Val loss: 0.4162\n"
          ]
        },
        {
          "output_type": "stream",
          "name": "stderr",
          "text": [
            "\r 75%|███████▌  | 45/60 [18:07<06:02, 24.15s/it]"
          ]
        },
        {
          "output_type": "stream",
          "name": "stdout",
          "text": [
            "[INFO] EPOCH: 45/60\n",
            "Train loss: 0.180972, Val loss: 0.4239\n"
          ]
        },
        {
          "output_type": "stream",
          "name": "stderr",
          "text": [
            "\r 77%|███████▋  | 46/60 [18:32<05:38, 24.18s/it]"
          ]
        },
        {
          "output_type": "stream",
          "name": "stdout",
          "text": [
            "[INFO] EPOCH: 46/60\n",
            "Train loss: 0.177467, Val loss: 0.4141\n"
          ]
        },
        {
          "output_type": "stream",
          "name": "stderr",
          "text": [
            "\r 78%|███████▊  | 47/60 [18:56<05:13, 24.13s/it]"
          ]
        },
        {
          "output_type": "stream",
          "name": "stdout",
          "text": [
            "[INFO] EPOCH: 47/60\n",
            "Train loss: 0.175491, Val loss: 0.4242\n"
          ]
        },
        {
          "output_type": "stream",
          "name": "stderr",
          "text": [
            "\r 80%|████████  | 48/60 [19:20<04:49, 24.14s/it]"
          ]
        },
        {
          "output_type": "stream",
          "name": "stdout",
          "text": [
            "[INFO] EPOCH: 48/60\n",
            "Train loss: 0.174409, Val loss: 0.4081\n"
          ]
        },
        {
          "output_type": "stream",
          "name": "stderr",
          "text": [
            "\r 82%|████████▏ | 49/60 [19:44<04:26, 24.21s/it]"
          ]
        },
        {
          "output_type": "stream",
          "name": "stdout",
          "text": [
            "[INFO] EPOCH: 49/60\n",
            "Train loss: 0.170300, Val loss: 0.4135\n"
          ]
        },
        {
          "output_type": "stream",
          "name": "stderr",
          "text": [
            "\r 83%|████████▎ | 50/60 [20:08<04:01, 24.15s/it]"
          ]
        },
        {
          "output_type": "stream",
          "name": "stdout",
          "text": [
            "[INFO] EPOCH: 50/60\n",
            "Train loss: 0.168673, Val loss: 0.4090\n"
          ]
        },
        {
          "output_type": "stream",
          "name": "stderr",
          "text": [
            "\r 85%|████████▌ | 51/60 [20:33<03:38, 24.22s/it]"
          ]
        },
        {
          "output_type": "stream",
          "name": "stdout",
          "text": [
            "[INFO] EPOCH: 51/60\n",
            "Train loss: 0.154893, Val loss: 0.4109\n"
          ]
        },
        {
          "output_type": "stream",
          "name": "stderr",
          "text": [
            "\r 87%|████████▋ | 52/60 [20:57<03:13, 24.21s/it]"
          ]
        },
        {
          "output_type": "stream",
          "name": "stdout",
          "text": [
            "[INFO] EPOCH: 52/60\n",
            "Train loss: 0.150756, Val loss: 0.4082\n"
          ]
        },
        {
          "output_type": "stream",
          "name": "stderr",
          "text": [
            "\r 88%|████████▊ | 53/60 [21:21<02:50, 24.29s/it]"
          ]
        },
        {
          "output_type": "stream",
          "name": "stdout",
          "text": [
            "[INFO] EPOCH: 53/60\n",
            "Train loss: 0.148539, Val loss: 0.4087\n"
          ]
        },
        {
          "output_type": "stream",
          "name": "stderr",
          "text": [
            "\r 90%|█████████ | 54/60 [21:46<02:25, 24.29s/it]"
          ]
        },
        {
          "output_type": "stream",
          "name": "stdout",
          "text": [
            "[INFO] EPOCH: 54/60\n",
            "Train loss: 0.147138, Val loss: 0.4051\n"
          ]
        },
        {
          "output_type": "stream",
          "name": "stderr",
          "text": [
            "\r 92%|█████████▏| 55/60 [22:10<02:01, 24.29s/it]"
          ]
        },
        {
          "output_type": "stream",
          "name": "stdout",
          "text": [
            "[INFO] EPOCH: 55/60\n",
            "Train loss: 0.146211, Val loss: 0.4083\n"
          ]
        },
        {
          "output_type": "stream",
          "name": "stderr",
          "text": [
            "\r 93%|█████████▎| 56/60 [22:34<01:37, 24.34s/it]"
          ]
        },
        {
          "output_type": "stream",
          "name": "stdout",
          "text": [
            "[INFO] EPOCH: 56/60\n",
            "Train loss: 0.144367, Val loss: 0.4049\n"
          ]
        },
        {
          "output_type": "stream",
          "name": "stderr",
          "text": [
            "\r 95%|█████████▌| 57/60 [22:58<01:12, 24.28s/it]"
          ]
        },
        {
          "output_type": "stream",
          "name": "stdout",
          "text": [
            "[INFO] EPOCH: 57/60\n",
            "Train loss: 0.143344, Val loss: 0.4095\n"
          ]
        },
        {
          "output_type": "stream",
          "name": "stderr",
          "text": [
            "\r 97%|█████████▋| 58/60 [23:23<00:48, 24.37s/it]"
          ]
        },
        {
          "output_type": "stream",
          "name": "stdout",
          "text": [
            "[INFO] EPOCH: 58/60\n",
            "Train loss: 0.141518, Val loss: 0.4113\n"
          ]
        },
        {
          "output_type": "stream",
          "name": "stderr",
          "text": [
            "\r 98%|█████████▊| 59/60 [23:47<00:24, 24.38s/it]"
          ]
        },
        {
          "output_type": "stream",
          "name": "stdout",
          "text": [
            "[INFO] EPOCH: 59/60\n",
            "Train loss: 0.140471, Val loss: 0.4047\n"
          ]
        },
        {
          "output_type": "stream",
          "name": "stderr",
          "text": [
            "100%|██████████| 60/60 [24:12<00:00, 24.21s/it]"
          ]
        },
        {
          "output_type": "stream",
          "name": "stdout",
          "text": [
            "[INFO] EPOCH: 60/60\n",
            "Train loss: 0.138629, Val loss: 0.4020\n",
            "[INFO] total time taken to train the model: 1452.60s\n"
          ]
        },
        {
          "output_type": "stream",
          "name": "stderr",
          "text": [
            "\n"
          ]
        }
      ],
      "source": [
        "print(\"[INFO] training the network...\")\n",
        "\n",
        "startTime = time.time()\n",
        "\n",
        "for e in tqdm(range(epochs)):\n",
        "\t# set the model in training mode\n",
        "\tmodel.train()\n",
        " \n",
        "\t# initialize the total training and validation loss\n",
        "\ttotalTrainLoss = 0\n",
        "\ttotalValLoss = 0\n",
        "\n",
        "\t# loop over the training set\n",
        "\tfor (features , dose) in train_loader:\n",
        "\t\t# send the input to the device\n",
        "\t\t(features, dose) = (features.to(device), dose.to(device))\n",
        "\n",
        "\n",
        "\t\t# perform a forward pass and calculate the training loss\n",
        "\t\toptimizer.zero_grad()\n",
        "  \n",
        "\t\n",
        "\n",
        "\t\tdose_pred = model(features)\n",
        "\t\tloss = criterion(dose_pred, dose)\n",
        "\n",
        "\t\t\t#Replaces pow(2.0) with abs() for L1 regularization\n",
        "\t\t\n",
        "\t\t'''l2_lambda = 0.001\n",
        "\t\tl2_norm = sum(p.pow(2.0).sum()\n",
        "\t\t\t\tfor p in model.parameters())\n",
        "\t\n",
        "\t\tloss = loss + l2_lambda * l2_norm'''\n",
        "  \n",
        "\n",
        "\t\t# first, zero out any previously accumulated gradients, then\n",
        "\t\t# perform backpropagation, and then update model parameters\n",
        "\t\t\n",
        "\n",
        "\t\tloss.backward()\n",
        "  \n",
        "\t\toptimizer.step()\n",
        "\t\t\n",
        "  \n",
        "\t\t# add the loss to the total training loss so far\n",
        "\t\ttotalTrainLoss += loss\n",
        "\t\t\n",
        "\tscheduler.step()\n",
        "\n",
        "\n",
        "\t# switch off autograd\n",
        "\twith torch.no_grad():\n",
        "\t\t# set the model in evaluation mode\n",
        "\t\tmodel.eval()\n",
        "\t\t# loop over the validation set\n",
        "\t\tfor (features, dose) in val_loader:\n",
        "\t\t\t# send the input to the device\n",
        "\t\t\t(features, dose) = (features.to(device), dose.to(device))\n",
        "\t\t\t# make the predictions and calculate the validation loss\n",
        "\t\t\tdose_pred = model(features)\n",
        "\t\t\ttotalValLoss += criterion(dose_pred, dose)\n",
        "   \n",
        "\t# calculate the average training and validation loss\n",
        "\tavgTrainLoss = totalTrainLoss / len(train_loader)\n",
        "\tavgValLoss = totalValLoss / len(val_loader)\n",
        " \n",
        "\n",
        "\t# update our training history\n",
        "\tH[\"train_loss\"].append(avgTrainLoss.cpu().detach().numpy())\n",
        "\tH[\"val_loss\"].append(avgValLoss.cpu().detach().numpy())\n",
        " \n",
        "\n",
        "\t# print the model training and validation information\n",
        "\tprint(\"[INFO] EPOCH: {}/{}\".format(e + 1, epochs))\n",
        "\tprint(\"Train loss: {:.6f}, Val loss: {:.4f}\".format(avgTrainLoss, avgValLoss))\n",
        " \n",
        "\n",
        "# display the total time needed to perform the training\n",
        "endTime = time.time()\n",
        "print(\"[INFO] total time taken to train the model: {:.2f}s\".format(endTime - startTime))"
      ]
    },
    {
      "cell_type": "code",
      "execution_count": 130,
      "metadata": {
        "colab": {
          "base_uri": "https://localhost:8080/",
          "height": 299
        },
        "id": "00bPs-LGwBoq",
        "outputId": "d6f8cb08-ffe0-4dcf-e6e0-eace54b1044e"
      },
      "outputs": [
        {
          "output_type": "display_data",
          "data": {
            "text/plain": [
              "<Figure size 432x288 with 1 Axes>"
            ],
            "image/png": "[encoded data removed]"
          },
          "metadata": {}
        }
      ],
      "source": [
        "plt.style.use(\"ggplot\")\n",
        "plt.figure()\n",
        "plt.plot(H[\"train_loss\"], label=\"train_loss\")\n",
        "plt.plot(H[\"val_loss\"], label=\"val_loss\")\n",
        "plt.title(\"Training Loss on Dataset with normalized CT scan and without dropout, without schedular\")\n",
        "plt.xlabel(\"Epoch #\")\n",
        "plt.ylabel(\"Loss\")\n",
        "plt.legend(loc=\"lower left\")\n",
        "plt.show()\n",
        "# serialize the model to disk"
      ]
    },
    {
      "cell_type": "code",
      "execution_count": null,
      "metadata": {
        "id": "yvy-z8JCU3pA"
      },
      "outputs": [],
      "source": [
        "torch.save(model, \"/content/drive/MyDrive/MVA/3DM/model5.pth\")"
      ]
    },
    {
      "cell_type": "markdown",
      "source": [
        "## Validation procedure"
      ],
      "metadata": {
        "id": "Hsx07yUTg5te"
      }
    },
    {
      "cell_type": "code",
      "source": [
        "def mean_absolute_error(image_true, image_generated):\n",
        "    \"\"\"Compute mean absolute error.\n",
        "\n",
        "    Args:\n",
        "        image_true: (Tensor) true image\n",
        "        image_generated: (Tensor) generated image\n",
        "\n",
        "    Returns:\n",
        "        mse: (float) mean squared error\n",
        "    \"\"\"\n",
        "    return torch.abs(image_true - image_generated).mean()\n",
        "\n",
        "\n",
        "def peak_signal_to_noise_ratio(image_true, image_generated):\n",
        "    \"\"\"\"Compute peak signal-to-noise ratio.\n",
        "\n",
        "    Args:\n",
        "        image_true: (Tensor) true image\n",
        "        image_generated: (Tensor) generated image\n",
        "\n",
        "    Returns:\n",
        "        psnr: (float) peak signal-to-noise ratio\"\"\"\n",
        "    mse = ((image_true - image_generated) ** 2).mean().cpu()\n",
        "    return -10 * np.log10(mse)\n",
        "\n",
        "\n",
        "def structural_similarity_index(image_true, image_generated, C1=0.01, C2=0.03):\n",
        "    \"\"\"Compute structural similarity index.\n",
        "\n",
        "    Args:\n",
        "        image_true: (Tensor) true image\n",
        "        image_generated: (Tensor) generated image\n",
        "        C1: (float) variable to stabilize the denominator\n",
        "        C2: (float) variable to stabilize the denominator\n",
        "\n",
        "    Returns:\n",
        "        ssim: (float) mean squared error\"\"\"\n",
        "    mean_true = image_true.mean()\n",
        "    mean_generated = image_generated.mean()\n",
        "    std_true = image_true.std()\n",
        "    std_generated = image_generated.std()\n",
        "    covariance = (\n",
        "        (image_true - mean_true) * (image_generated - mean_generated)).mean()\n",
        "\n",
        "    numerator = (2 * mean_true * mean_generated + C1) * (2 * covariance + C2)\n",
        "    denominator = ((mean_true ** 2 + mean_generated ** 2 + C1) *\n",
        "                   (std_true ** 2 + std_generated ** 2 + C2))\n",
        "    return numerator / denominator"
      ],
      "metadata": {
        "id": "bWOO3Ng8g_kk"
      },
      "execution_count": 131,
      "outputs": []
    },
    {
      "cell_type": "code",
      "source": [
        "def evaluate_generator(generator):\n",
        "    \"\"\"Evaluate a generator.\n",
        "\n",
        "    Args:\n",
        "        generator: (GeneratorUNet) neural network generating T2-w images\n",
        "\n",
        "    \"\"\"\n",
        "    res_train, res_test = [], []\n",
        "\n",
        "    cuda = True if torch.cuda.is_available() else False\n",
        "    Tensor = torch.cuda.FloatTensor if cuda else torch.FloatTensor\n",
        "\n",
        "    with torch.no_grad():\n",
        "\n",
        "        for (features, dose) in train_loader:\n",
        "            # send the input to the device\n",
        "            (features, dose) = (features.to(device), dose.to(device))\n",
        "            # make the predictions and calculate the validation loss\n",
        "            dose_pred = model(features)\n",
        "\n",
        "            #compute the different metrics\n",
        "            mae = mean_absolute_error(dose_pred, dose).item()\n",
        "            psnr = peak_signal_to_noise_ratio(dose_pred, dose).item()\n",
        "            ssim = structural_similarity_index(dose_pred, dose).item()\n",
        "\n",
        "            res_train.append([mae, psnr, ssim])\n",
        "\n",
        "        for (features, dose) in val_loader:\n",
        "           # send the input to the device\n",
        "            (features, dose) = (features.to(device), dose.to(device))\n",
        "            # make the predictions and calculate the validation loss\n",
        "            dose_pred = model(features)\n",
        "\n",
        "\n",
        "            mae = mean_absolute_error(dose_pred, dose).item()\n",
        "            psnr = peak_signal_to_noise_ratio(dose_pred, dose).item()\n",
        "            ssim = structural_similarity_index(dose_pred, dose).item()\n",
        "\n",
        "            res_test.append([mae, psnr, ssim])\n",
        "\n",
        "        df = pd.DataFrame([\n",
        "            pd.DataFrame(res_train, columns=['MAE', 'PSNR', 'SSIM']).mean().squeeze(),\n",
        "            pd.DataFrame(res_test, columns=['MAE', 'PSNR', 'SSIM']).mean().squeeze()\n",
        "        ], index=['Training set', 'Test set']).T\n",
        "    return df"
      ],
      "metadata": {
        "id": "gR3yRFXAhFKL"
      },
      "execution_count": 134,
      "outputs": []
    },
    {
      "cell_type": "code",
      "source": [
        "evaluate_generator(model)"
      ],
      "metadata": {
        "colab": {
          "base_uri": "https://localhost:8080/",
          "height": 143
        },
        "id": "-1V4Tzdtmtfk",
        "outputId": "9c59f7e2-2257-4b8d-f43d-8e8f937ba84a"
      },
      "execution_count": 135,
      "outputs": [
        {
          "output_type": "execute_result",
          "data": {
            "text/plain": [
              "      Training set  Test set\n",
              "MAE       0.193598  0.401965\n",
              "PSNR      0.731046 -5.873433\n",
              "SSIM      0.996648  0.982932"
            ],
            "text/html": [
              "\n",
              "  <div id=\"df-6c4d64d4-39d0-4ee0-878a-c9ba98a4cb54\">\n",
              "    <div class=\"colab-df-container\">\n",
              "      <div>\n",
              "<style scoped>\n",
              "    .dataframe tbody tr th:only-of-type {\n",
              "        vertical-align: middle;\n",
              "    }\n",
              "\n",
              "    .dataframe tbody tr th {\n",
              "        vertical-align: top;\n",
              "    }\n",
              "\n",
              "    .dataframe thead th {\n",
              "        text-align: right;\n",
              "    }\n",
              "</style>\n",
              "<table border=\"1\" class=\"dataframe\">\n",
              "  <thead>\n",
              "    <tr style=\"text-align: right;\">\n",
              "      <th></th>\n",
              "      <th>Training set</th>\n",
              "      <th>Test set</th>\n",
              "    </tr>\n",
              "  </thead>\n",
              "  <tbody>\n",
              "    <tr>\n",
              "      <th>MAE</th>\n",
              "      <td>0.193598</td>\n",
              "      <td>0.401965</td>\n",
              "    </tr>\n",
              "    <tr>\n",
              "      <th>PSNR</th>\n",
              "      <td>0.731046</td>\n",
              "      <td>-5.873433</td>\n",
              "    </tr>\n",
              "    <tr>\n",
              "      <th>SSIM</th>\n",
              "      <td>0.996648</td>\n",
              "      <td>0.982932</td>\n",
              "    </tr>\n",
              "  </tbody>\n",
              "</table>\n",
              "</div>\n",
              "      <button class=\"colab-df-convert\" onclick=\"convertToInteractive('df-6c4d64d4-39d0-4ee0-878a-c9ba98a4cb54')\"\n",
              "              title=\"Convert this dataframe to an interactive table.\"\n",
              "              style=\"display:none;\">\n",
              "        \n",
              "  <svg xmlns=\"http://www.w3.org/2000/svg\" height=\"24px\"viewBox=\"0 0 24 24\"\n",
              "       width=\"24px\">\n",
              "    <path d=\"M0 0h24v24H0V0z\" fill=\"none\"/>\n",
              "    <path d=\"M18.56 5.44l.94 2.06.94-2.06 2.06-.94-2.06-.94-.94-2.06-.94 2.06-2.06.94zm-11 1L8.5 8.5l.94-2.06 2.06-.94-2.06-.94L8.5 2.5l-.94 2.06-2.06.94zm10 10l.94 2.06.94-2.06 2.06-.94-2.06-.94-.94-2.06-.94 2.06-2.06.94z\"/><path d=\"M17.41 7.96l-1.37-1.37c-.4-.4-.92-.59-1.43-.59-.52 0-1.04.2-1.43.59L10.3 9.45l-7.72 7.72c-.78.78-.78 2.05 0 2.83L4 21.41c.39.39.9.59 1.41.59.51 0 1.02-.2 1.41-.59l7.78-7.78 2.81-2.81c.8-.78.8-2.07 0-2.86zM5.41 20L4 18.59l7.72-7.72 1.47 1.35L5.41 20z\"/>\n",
              "  </svg>\n",
              "      </button>\n",
              "      \n",
              "  <style>\n",
              "    .colab-df-container {\n",
              "      display:flex;\n",
              "      flex-wrap:wrap;\n",
              "      gap: 12px;\n",
              "    }\n",
              "\n",
              "    .colab-df-convert {\n",
              "      background-color: #E8F0FE;\n",
              "      border: none;\n",
              "      border-radius: 50%;\n",
              "      cursor: pointer;\n",
              "      display: none;\n",
              "      fill: #1967D2;\n",
              "      height: 32px;\n",
              "      padding: 0 0 0 0;\n",
              "      width: 32px;\n",
              "    }\n",
              "\n",
              "    .colab-df-convert:hover {\n",
              "      background-color: #E2EBFA;\n",
              "      box-shadow: 0px 1px 2px rgba(60, 64, 67, 0.3), 0px 1px 3px 1px rgba(60, 64, 67, 0.15);\n",
              "      fill: #174EA6;\n",
              "    }\n",
              "\n",
              "    [theme=dark] .colab-df-convert {\n",
              "      background-color: #3B4455;\n",
              "      fill: #D2E3FC;\n",
              "    }\n",
              "\n",
              "    [theme=dark] .colab-df-convert:hover {\n",
              "      background-color: #434B5C;\n",
              "      box-shadow: 0px 1px 3px 1px rgba(0, 0, 0, 0.15);\n",
              "      filter: drop-shadow(0px 1px 2px rgba(0, 0, 0, 0.3));\n",
              "      fill: #FFFFFF;\n",
              "    }\n",
              "  </style>\n",
              "\n",
              "      <script>\n",
              "        const buttonEl =\n",
              "          document.querySelector('#df-6c4d64d4-39d0-4ee0-878a-c9ba98a4cb54 button.colab-df-convert');\n",
              "        buttonEl.style.display =\n",
              "          google.colab.kernel.accessAllowed ? 'block' : 'none';\n",
              "\n",
              "        async function convertToInteractive(key) {\n",
              "          const element = document.querySelector('#df-6c4d64d4-39d0-4ee0-878a-c9ba98a4cb54');\n",
              "          const dataTable =\n",
              "            await google.colab.kernel.invokeFunction('convertToInteractive',\n",
              "                                                     [key], {});\n",
              "          if (!dataTable) return;\n",
              "\n",
              "          const docLinkHtml = 'Like what you see? Visit the ' +\n",
              "            '<a target=\"_blank\" href=https://colab.research.google.com/notebooks/data_table.ipynb>data table notebook</a>'\n",
              "            + ' to learn more about interactive tables.';\n",
              "          element.innerHTML = '';\n",
              "          dataTable['output_type'] = 'display_data';\n",
              "          await google.colab.output.renderOutput(dataTable, element);\n",
              "          const docLink = document.createElement('div');\n",
              "          docLink.innerHTML = docLinkHtml;\n",
              "          element.appendChild(docLink);\n",
              "        }\n",
              "      </script>\n",
              "    </div>\n",
              "  </div>\n",
              "  "
            ]
          },
          "metadata": {},
          "execution_count": 135
        }
      ]
    },
    {
      "cell_type": "markdown",
      "metadata": {
        "id": "zzOCMZ9dEiLS"
      },
      "source": [
        "# Submission"
      ]
    },
    {
      "cell_type": "code",
      "execution_count": null,
      "metadata": {
        "id": "Kcv66tMoYYBo"
      },
      "outputs": [],
      "source": [
        "model = torch.load(\"/content/drive/MyDrive/MVA/3DM/model5.pth\")"
      ]
    },
    {
      "cell_type": "code",
      "execution_count": 136,
      "metadata": {
        "colab": {
          "base_uri": "https://localhost:8080/"
        },
        "id": "BW_0XHI0aGth",
        "outputId": "0157ddda-8ad1-4b63-d26e-2749fa081822"
      },
      "outputs": [
        {
          "output_type": "execute_result",
          "data": {
            "text/plain": [
              "UNet(\n",
              "  (inc1): ConvBatchNorm(\n",
              "    (conv): Conv2d(12, 64, kernel_size=(3, 3), stride=(1, 1), padding=(1, 1))\n",
              "    (norm): BatchNorm2d(64, eps=1e-05, momentum=0.1, affine=True, track_running_stats=True)\n",
              "    (activation): ReLU()\n",
              "  )\n",
              "  (inc2): ConvBatchNorm(\n",
              "    (conv): Conv2d(64, 64, kernel_size=(3, 3), stride=(1, 1), padding=(1, 1))\n",
              "    (norm): BatchNorm2d(64, eps=1e-05, momentum=0.1, affine=True, track_running_stats=True)\n",
              "    (activation): ReLU()\n",
              "  )\n",
              "  (down1): DownBlock(\n",
              "    (maxpool): MaxPool2d(kernel_size=2, stride=2, padding=0, dilation=1, ceil_mode=False)\n",
              "    (nConvs): Sequential(\n",
              "      (0): ConvBatchNorm(\n",
              "        (conv): Conv2d(64, 128, kernel_size=(3, 3), stride=(1, 1), padding=(1, 1))\n",
              "        (norm): BatchNorm2d(128, eps=1e-05, momentum=0.1, affine=True, track_running_stats=True)\n",
              "        (activation): ReLU()\n",
              "      )\n",
              "      (1): ConvBatchNorm(\n",
              "        (conv): Conv2d(128, 128, kernel_size=(3, 3), stride=(1, 1), padding=(1, 1))\n",
              "        (norm): BatchNorm2d(128, eps=1e-05, momentum=0.1, affine=True, track_running_stats=True)\n",
              "        (activation): ReLU()\n",
              "      )\n",
              "    )\n",
              "  )\n",
              "  (down2): DownBlock(\n",
              "    (maxpool): MaxPool2d(kernel_size=2, stride=2, padding=0, dilation=1, ceil_mode=False)\n",
              "    (nConvs): Sequential(\n",
              "      (0): ConvBatchNorm(\n",
              "        (conv): Conv2d(128, 256, kernel_size=(3, 3), stride=(1, 1), padding=(1, 1))\n",
              "        (norm): BatchNorm2d(256, eps=1e-05, momentum=0.1, affine=True, track_running_stats=True)\n",
              "        (activation): ReLU()\n",
              "      )\n",
              "      (1): ConvBatchNorm(\n",
              "        (conv): Conv2d(256, 256, kernel_size=(3, 3), stride=(1, 1), padding=(1, 1))\n",
              "        (norm): BatchNorm2d(256, eps=1e-05, momentum=0.1, affine=True, track_running_stats=True)\n",
              "        (activation): ReLU()\n",
              "      )\n",
              "    )\n",
              "  )\n",
              "  (down3): DownBlock(\n",
              "    (maxpool): MaxPool2d(kernel_size=2, stride=2, padding=0, dilation=1, ceil_mode=False)\n",
              "    (nConvs): Sequential(\n",
              "      (0): ConvBatchNorm(\n",
              "        (conv): Conv2d(256, 512, kernel_size=(3, 3), stride=(1, 1), padding=(1, 1))\n",
              "        (norm): BatchNorm2d(512, eps=1e-05, momentum=0.1, affine=True, track_running_stats=True)\n",
              "        (activation): ReLU()\n",
              "      )\n",
              "      (1): ConvBatchNorm(\n",
              "        (conv): Conv2d(512, 512, kernel_size=(3, 3), stride=(1, 1), padding=(1, 1))\n",
              "        (norm): BatchNorm2d(512, eps=1e-05, momentum=0.1, affine=True, track_running_stats=True)\n",
              "        (activation): ReLU()\n",
              "      )\n",
              "    )\n",
              "  )\n",
              "  (down4): DownBlock(\n",
              "    (maxpool): MaxPool2d(kernel_size=2, stride=2, padding=0, dilation=1, ceil_mode=False)\n",
              "    (nConvs): Sequential(\n",
              "      (0): ConvBatchNorm(\n",
              "        (conv): Conv2d(512, 512, kernel_size=(3, 3), stride=(1, 1), padding=(1, 1))\n",
              "        (norm): BatchNorm2d(512, eps=1e-05, momentum=0.1, affine=True, track_running_stats=True)\n",
              "        (activation): ReLU()\n",
              "      )\n",
              "      (1): ConvBatchNorm(\n",
              "        (conv): Conv2d(512, 512, kernel_size=(3, 3), stride=(1, 1), padding=(1, 1))\n",
              "        (norm): BatchNorm2d(512, eps=1e-05, momentum=0.1, affine=True, track_running_stats=True)\n",
              "        (activation): ReLU()\n",
              "      )\n",
              "    )\n",
              "  )\n",
              "  (bottleneck): Bottleneck(\n",
              "    (nConvs): Sequential(\n",
              "      (0): ConvBatchNorm(\n",
              "        (conv): Conv2d(512, 512, kernel_size=(3, 3), stride=(1, 1), padding=(1, 1))\n",
              "        (norm): BatchNorm2d(512, eps=1e-05, momentum=0.1, affine=True, track_running_stats=True)\n",
              "        (activation): ReLU()\n",
              "      )\n",
              "      (1): ConvBatchNorm(\n",
              "        (conv): Conv2d(512, 512, kernel_size=(3, 3), stride=(1, 1), padding=(1, 1))\n",
              "        (norm): BatchNorm2d(512, eps=1e-05, momentum=0.1, affine=True, track_running_stats=True)\n",
              "        (activation): ReLU()\n",
              "      )\n",
              "    )\n",
              "    (last): ConvTranspose2d(512, 512, kernel_size=(2, 2), stride=(2, 2))\n",
              "  )\n",
              "  (up1): UpBlock(\n",
              "    (nConvs): Sequential(\n",
              "      (0): ConvBatchNorm(\n",
              "        (conv): Conv2d(1024, 256, kernel_size=(3, 3), stride=(1, 1), padding=(1, 1))\n",
              "        (norm): BatchNorm2d(256, eps=1e-05, momentum=0.1, affine=True, track_running_stats=True)\n",
              "        (activation): ReLU()\n",
              "      )\n",
              "      (1): ConvBatchNorm(\n",
              "        (conv): Conv2d(256, 256, kernel_size=(3, 3), stride=(1, 1), padding=(1, 1))\n",
              "        (norm): BatchNorm2d(256, eps=1e-05, momentum=0.1, affine=True, track_running_stats=True)\n",
              "        (activation): ReLU()\n",
              "      )\n",
              "    )\n",
              "    (up): ConvTranspose2d(256, 256, kernel_size=(2, 2), stride=(2, 2))\n",
              "  )\n",
              "  (up2): UpBlock(\n",
              "    (nConvs): Sequential(\n",
              "      (0): ConvBatchNorm(\n",
              "        (conv): Conv2d(768, 256, kernel_size=(3, 3), stride=(1, 1), padding=(1, 1))\n",
              "        (norm): BatchNorm2d(256, eps=1e-05, momentum=0.1, affine=True, track_running_stats=True)\n",
              "        (activation): ReLU()\n",
              "      )\n",
              "      (1): ConvBatchNorm(\n",
              "        (conv): Conv2d(256, 256, kernel_size=(3, 3), stride=(1, 1), padding=(1, 1))\n",
              "        (norm): BatchNorm2d(256, eps=1e-05, momentum=0.1, affine=True, track_running_stats=True)\n",
              "        (activation): ReLU()\n",
              "      )\n",
              "    )\n",
              "    (up): ConvTranspose2d(256, 256, kernel_size=(2, 2), stride=(2, 2))\n",
              "  )\n",
              "  (up3): UpBlock(\n",
              "    (nConvs): Sequential(\n",
              "      (0): ConvBatchNorm(\n",
              "        (conv): Conv2d(512, 128, kernel_size=(3, 3), stride=(1, 1), padding=(1, 1))\n",
              "        (norm): BatchNorm2d(128, eps=1e-05, momentum=0.1, affine=True, track_running_stats=True)\n",
              "        (activation): ReLU()\n",
              "      )\n",
              "      (1): ConvBatchNorm(\n",
              "        (conv): Conv2d(128, 128, kernel_size=(3, 3), stride=(1, 1), padding=(1, 1))\n",
              "        (norm): BatchNorm2d(128, eps=1e-05, momentum=0.1, affine=True, track_running_stats=True)\n",
              "        (activation): ReLU()\n",
              "      )\n",
              "    )\n",
              "    (up): ConvTranspose2d(128, 128, kernel_size=(2, 2), stride=(2, 2))\n",
              "  )\n",
              "  (up4): UpBlock(\n",
              "    (nConvs): Sequential(\n",
              "      (0): ConvBatchNorm(\n",
              "        (conv): Conv2d(256, 64, kernel_size=(3, 3), stride=(1, 1), padding=(1, 1))\n",
              "        (norm): BatchNorm2d(64, eps=1e-05, momentum=0.1, affine=True, track_running_stats=True)\n",
              "        (activation): ReLU()\n",
              "      )\n",
              "      (1): ConvBatchNorm(\n",
              "        (conv): Conv2d(64, 64, kernel_size=(3, 3), stride=(1, 1), padding=(1, 1))\n",
              "        (norm): BatchNorm2d(64, eps=1e-05, momentum=0.1, affine=True, track_running_stats=True)\n",
              "        (activation): ReLU()\n",
              "      )\n",
              "    )\n",
              "    (up): ConvTranspose2d(64, 64, kernel_size=(2, 2), stride=(2, 2))\n",
              "  )\n",
              "  (outc): Sequential(\n",
              "    (0): ConvBatchNorm(\n",
              "      (conv): Conv2d(128, 32, kernel_size=(3, 3), stride=(1, 1), padding=(1, 1))\n",
              "      (norm): BatchNorm2d(32, eps=1e-05, momentum=0.1, affine=True, track_running_stats=True)\n",
              "      (activation): ReLU()\n",
              "    )\n",
              "    (1): Conv2d(32, 16, kernel_size=(3, 3), stride=(1, 1), padding=(1, 1))\n",
              "    (2): Conv2d(16, 8, kernel_size=(3, 3), stride=(1, 1), padding=(1, 1))\n",
              "    (3): Conv2d(8, 4, kernel_size=(3, 3), stride=(1, 1), padding=(1, 1))\n",
              "    (4): Conv2d(4, 2, kernel_size=(3, 3), stride=(1, 1), padding=(1, 1))\n",
              "    (5): Conv2d(2, 1, kernel_size=(1, 1), stride=(1, 1))\n",
              "  )\n",
              "  (last_activation): ReLU()\n",
              ")"
            ]
          },
          "metadata": {},
          "execution_count": 136
        }
      ],
      "source": [
        "model.eval()"
      ]
    },
    {
      "cell_type": "code",
      "execution_count": 137,
      "metadata": {
        "id": "0D2WLeIxUzkM"
      },
      "outputs": [],
      "source": [
        "x , y = val_dataset[0]"
      ]
    },
    {
      "cell_type": "code",
      "execution_count": 138,
      "metadata": {
        "colab": {
          "base_uri": "https://localhost:8080/"
        },
        "id": "AYlmtkt0Y91g",
        "outputId": "cd4e3716-e234-4620-901c-b415def5386a"
      },
      "outputs": [
        {
          "output_type": "execute_result",
          "data": {
            "text/plain": [
              "torch.Size([1, 12, 128, 128])"
            ]
          },
          "metadata": {},
          "execution_count": 138
        }
      ],
      "source": [
        "x = x.unsqueeze(0)\n",
        "x.shape"
      ]
    },
    {
      "cell_type": "code",
      "execution_count": 139,
      "metadata": {
        "colab": {
          "base_uri": "https://localhost:8080/"
        },
        "id": "Pfk0qGk2Y_p8",
        "outputId": "6afb18bd-984b-44da-8b7f-ab7c42c0a976"
      },
      "outputs": [
        {
          "output_type": "execute_result",
          "data": {
            "text/plain": [
              "torch.Size([128, 128])"
            ]
          },
          "metadata": {},
          "execution_count": 139
        }
      ],
      "source": [
        "y.shape"
      ]
    },
    {
      "cell_type": "code",
      "execution_count": 147,
      "metadata": {
        "colab": {
          "base_uri": "https://localhost:8080/",
          "height": 551
        },
        "id": "_bkpNBL9cWA_",
        "outputId": "a75658ef-1416-49b3-af32-878ed4caa57e"
      },
      "outputs": [
        {
          "output_type": "display_data",
          "data": {
            "text/plain": [
              "<Figure size 432x288 with 1 Axes>"
            ],
            "image/png": "[encoded data removed]"
          },
          "metadata": {}
        },
        {
          "output_type": "execute_result",
          "data": {
            "text/plain": [
              "Text(0.5, 1.0, 'real dose')"
            ]
          },
          "metadata": {},
          "execution_count": 147
        },
        {
          "output_type": "display_data",
          "data": {
            "text/plain": [
              "<Figure size 432x288 with 1 Axes>"
            ],
            "image/png": "[encoded data removed]"
          },
          "metadata": {}
        }
      ],
      "source": [
        "plt.imshow(y,cmap='jet')\n",
        "plt.show()\n",
        "plt.title('real dose')"
      ]
    },
    {
      "cell_type": "code",
      "execution_count": 141,
      "metadata": {
        "id": "ITn7PF9oZBJK"
      },
      "outputs": [],
      "source": [
        "with torch.no_grad():\n",
        "    pred = model(x.cuda()).squeeze()"
      ]
    },
    {
      "cell_type": "code",
      "execution_count": 142,
      "metadata": {
        "id": "f3kGnF7Vc3bS"
      },
      "outputs": [],
      "source": [
        "pred = pred.cpu()"
      ]
    },
    {
      "cell_type": "code",
      "execution_count": 143,
      "metadata": {
        "colab": {
          "base_uri": "https://localhost:8080/"
        },
        "id": "NY6QL7TyeMek",
        "outputId": "1e445eed-a57d-4944-d084-76bbbbfd254c"
      },
      "outputs": [
        {
          "output_type": "execute_result",
          "data": {
            "text/plain": [
              "torch.Size([128, 128])"
            ]
          },
          "metadata": {},
          "execution_count": 143
        }
      ],
      "source": [
        "pred.shape"
      ]
    },
    {
      "cell_type": "code",
      "execution_count": 145,
      "metadata": {
        "colab": {
          "base_uri": "https://localhost:8080/",
          "height": 551
        },
        "id": "RnEW8j0ucJGc",
        "outputId": "3b954755-25f1-4d9a-c960-11ccc50b4d4d"
      },
      "outputs": [
        {
          "output_type": "display_data",
          "data": {
            "text/plain": [
              "<Figure size 432x288 with 1 Axes>"
            ],
            "image/png": "[encoded data removed]"
          },
          "metadata": {}
        },
        {
          "output_type": "execute_result",
          "data": {
            "text/plain": [
              "Text(0.5, 1.0, 'generated dose')"
            ]
          },
          "metadata": {},
          "execution_count": 145
        },
        {
          "output_type": "display_data",
          "data": {
            "text/plain": [
              "<Figure size 432x288 with 1 Axes>"
            ],
            "image/png": "[encoded data removed]"
          },
          "metadata": {}
        }
      ],
      "source": [
        "plt.imshow(pred,cmap='jet')\n",
        "plt.show()\n",
        "plt.title('generated dose')"
      ]
    },
    {
      "cell_type": "code",
      "execution_count": 76,
      "metadata": {
        "id": "DdnX83pVe7y2"
      },
      "outputs": [],
      "source": [
        "loss = torch.nn.L1Loss()"
      ]
    },
    {
      "cell_type": "code",
      "execution_count": 77,
      "metadata": {
        "colab": {
          "base_uri": "https://localhost:8080/"
        },
        "id": "GMlrM8k6dov5",
        "outputId": "a780c042-ab0f-4984-dae1-8bc90a67de82"
      },
      "outputs": [
        {
          "output_type": "stream",
          "name": "stdout",
          "text": [
            "tensor(0.4112)\n"
          ]
        }
      ],
      "source": [
        "print(loss(pred, y))"
      ]
    },
    {
      "cell_type": "code",
      "execution_count": 78,
      "metadata": {
        "id": "lNtdlv88wCZY"
      },
      "outputs": [],
      "source": [
        "test_dir = \"./MVA-Dose-Prediction/test/\""
      ]
    },
    {
      "cell_type": "code",
      "execution_count": 80,
      "metadata": {
        "colab": {
          "base_uri": "https://localhost:8080/"
        },
        "id": "X7kmV95LRfu-",
        "outputId": "233ae753-2b2e-4278-dcd1-50d86d7f86ce"
      },
      "outputs": [
        {
          "output_type": "stream",
          "name": "stdout",
          "text": [
            "Mounted at /content/drive\n"
          ]
        },
        {
          "output_type": "stream",
          "name": "stderr",
          "text": [
            "100%|██████████| 1200/1200 [00:16<00:00, 73.86it/s]\n"
          ]
        }
      ],
      "source": [
        "from google.colab import drive\n",
        "drive.mount('/content/drive')\n",
        "model.eval()\n",
        "\n",
        "for sample in tqdm(os.listdir(test_dir)):\n",
        "\n",
        "    sample_path = test_dir + sample\n",
        "\n",
        "    ct_scan = torch.from_numpy(np.load(sample_path + os.sep + 'ct.npy')).float()\n",
        "\n",
        "    ct_scan = F.normalize(ct_scan, p=2.0, dim=1, eps=1e-12, out=None)\n",
        "\n",
        "    structure_masks = torch.from_numpy(np.load(sample_path + os.sep + 'structure_masks.npy')).float()\n",
        "\n",
        "    possible_dose_mask = torch.from_numpy(np.load(sample_path + os.sep + 'possible_dose_mask.npy')).float()\n",
        "\n",
        "    x = torch.vstack([ct_scan.unsqueeze(0), structure_masks, possible_dose_mask.unsqueeze(0)]).unsqueeze(0)\n",
        "\n",
        "    x = x.cuda()\n",
        "\n",
        "    with torch.no_grad():\n",
        "\n",
        "        pred = model(x)\n",
        "\n",
        "        pred = pred.squeeze().cpu().numpy()\n",
        "        with open(f\"/content/drive/MyDrive/submission/{sample}.npy\", \"wb\") as f:\n",
        "\n",
        "            np.save(f,pred)\n",
        "       \n",
        "\n",
        "        "
      ]
    },
    {
      "cell_type": "code",
      "execution_count": 88,
      "metadata": {
        "colab": {
          "base_uri": "https://localhost:8080/"
        },
        "id": "D3EEzgoPVEpd",
        "outputId": "ea826f0b-800e-4845-9ee0-c6940fc74aa0"
      },
      "outputs": [
        {
          "output_type": "stream",
          "name": "stdout",
          "text": [
            "[Errno 2] No such file or directory: '/content/drive/MyDrive/MVA/3DM/submission'\n",
            "/content\n"
          ]
        }
      ],
      "source": [
        "cd /content/drive/MyDrive/MVA/3DM/submission"
      ]
    },
    {
      "cell_type": "code",
      "execution_count": 89,
      "metadata": {
        "colab": {
          "base_uri": "https://localhost:8080/"
        },
        "id": "42lPzVfyVLs9",
        "outputId": "c3d18e2e-30a9-44dc-be3f-37f110eb6ca2"
      },
      "outputs": [
        {
          "output_type": "stream",
          "name": "stdout",
          "text": [
            "updating: drive/ (stored 0%)\n",
            "updating: MVA-Dose-Prediction/ (stored 0%)\n",
            "updating: sample_data/ (stored 0%)\n"
          ]
        }
      ],
      "source": [
        "!zip submission.zip *"
      ]
    },
    {
      "cell_type": "code",
      "execution_count": 90,
      "metadata": {
        "colab": {
          "base_uri": "https://localhost:8080/"
        },
        "id": "nCScoPsibdBx",
        "outputId": "2097237c-5f31-4ea5-bc06-cc3f5556a3cb"
      },
      "outputs": [
        {
          "output_type": "stream",
          "name": "stdout",
          "text": [
            "drive  MVA-Dose-Prediction  sample_data  submission.zip\n"
          ]
        }
      ],
      "source": [
        "!ls"
      ]
    },
    {
      "cell_type": "code",
      "execution_count": null,
      "metadata": {
        "colab": {
          "base_uri": "https://localhost:8080/"
        },
        "id": "PEpkLpdeR07V",
        "outputId": "fdd64d0d-e69e-4222-873d-4cb6c1a1074b"
      },
      "outputs": [
        {
          "name": "stdout",
          "output_type": "stream",
          "text": [
            "Drive already mounted at /content/drive; to attempt to forcibly remount, call drive.mount(\"/content/drive\", force_remount=True).\n"
          ]
        }
      ],
      "source": [
        "from google.colab import drive\n",
        "drive.mount('/content/drive')"
      ]
    },
    {
      "cell_type": "code",
      "execution_count": null,
      "metadata": {
        "id": "jZCD-8VUZ-3s"
      },
      "outputs": [],
      "source": []
    }
  ],
  "metadata": {
    "accelerator": "GPU",
    "colab": {
      "machine_shape": "hm",
      "provenance": []
    },
    "gpuClass": "premium",
    "kernelspec": {
      "display_name": "Python 3",
      "name": "python3"
    },
    "language_info": {
      "name": "python"
    }
  },
  "nbformat": 4,
  "nbformat_minor": 0
}